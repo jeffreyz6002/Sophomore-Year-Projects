{
 "cells": [
  {
   "cell_type": "code",
   "execution_count": 1,
   "id": "8948c7b1",
   "metadata": {},
   "outputs": [],
   "source": [
    "from PIL import Image\n",
    "from statistics import *\n",
    "import pandas as pd\n",
    "import numpy as np\n",
    "import datetime as datetime1\n",
    "from datetime import datetime as datetime2\n",
    "from sklearn.model_selection import train_test_split\n",
    "from sklearn.linear_model import LinearRegression\n",
    "from sklearn.linear_model import LogisticRegression\n",
    "from sklearn.metrics import precision_score\n",
    "from sklearn.metrics import recall_score\n",
    "from sklearn.metrics import accuracy_score\n",
    "from sklearn.metrics import confusion_matrix\n",
    "from sklearn.metrics import f1_score\n",
    "from sklearn import metrics\n",
    "import matplotlib.pyplot as plt\n",
    "import csv\n",
    "import seaborn as sns\n",
    "import math"
   ]
  },
  {
   "cell_type": "code",
   "execution_count": 2,
   "id": "997062ed",
   "metadata": {},
   "outputs": [],
   "source": [
    "# Q1\n",
    "weather_data = pd.read_csv(\"weather_data.csv\")"
   ]
  },
  {
   "cell_type": "code",
   "execution_count": 3,
   "id": "83dd9519",
   "metadata": {},
   "outputs": [],
   "source": [
    "# Unix Time\n",
    "#weather_data"
   ]
  },
  {
   "cell_type": "code",
   "execution_count": 4,
   "id": "5d492862",
   "metadata": {},
   "outputs": [],
   "source": [
    "energy_data = pd.read_csv(\"energy_data.csv\")"
   ]
  },
  {
   "cell_type": "code",
   "execution_count": 5,
   "id": "74510a1d",
   "metadata": {
    "scrolled": true
   },
   "outputs": [],
   "source": [
    "#energy_data"
   ]
  },
  {
   "cell_type": "markdown",
   "id": "03c424b1",
   "metadata": {},
   "source": [
    "Here we take the sum of energy usage to get total usage per day but running a loop and starting count and stopping based on time."
   ]
  },
  {
   "cell_type": "code",
   "execution_count": 6,
   "id": "5183deaf",
   "metadata": {},
   "outputs": [],
   "source": [
    "energy_usage = {}\n",
    "lastDate = 0\n",
    "for i in range (0, len(energy_data[\"Date & Time\"])):\n",
    "    temp = datetime1.datetime.strptime(energy_data[\"Date & Time\"].get(i),\"%Y-%m-%d %H:%M:%S\")\n",
    "    new_format = \"%Y-%m-%d\"\n",
    "    date = temp.strftime(new_format)\n",
    "    temp = datetime1.datetime.strptime(energy_data[\"Date & Time\"].get(i),\"%Y-%m-%d %H:%M:%S\")\n",
    "    new_format = \"%H:%M:%S\"\n",
    "    time = temp.strftime(new_format)\n",
    "    if (date != lastDate):\n",
    "        lastDate = date\n",
    "        totalEnergyUsed = energy_data[\"use [kW]\"].get(i)\n",
    "    totalEnergyUsed += energy_data[\"use [kW]\"].get(i)\n",
    "    if (time == \"23:30:00\"):\n",
    "        energy_usage[date] = totalEnergyUsed\n",
    "\n",
    "#energy_usage "
   ]
  },
  {
   "cell_type": "markdown",
   "id": "475440aa",
   "metadata": {},
   "source": [
    "As we have to create a new csv file combining energy used and the weather_data, here I take all column headers of weather_data and removed the others that cannot be summarized into a days' value."
   ]
  },
  {
   "cell_type": "code",
   "execution_count": 7,
   "id": "47219d43",
   "metadata": {},
   "outputs": [],
   "source": [
    "weather_column = []\n",
    "for row in weather_data:\n",
    "    weather_column.append(row)\n",
    "    \n",
    "weather_column.pop(1)\n",
    "weather_column.pop(3)\n",
    "weather_column.pop(6)\n",
    "allData = {}\n",
    "weatherData = {}\n",
    "#weather_column"
   ]
  },
  {
   "cell_type": "markdown",
   "id": "e362f339",
   "metadata": {},
   "source": [
    "Next, we merge the summarize the data from weather_data by getting the mean. We also distinguish between days here by the time."
   ]
  },
  {
   "cell_type": "code",
   "execution_count": 8,
   "id": "f4720a4c",
   "metadata": {},
   "outputs": [],
   "source": [
    "# \"and merge it with weather data\"\n",
    "for i in range (0, len(weather_data[\"time\"])):\n",
    "    dt = datetime2.utcfromtimestamp(weather_data[\"time\"].get(i)).strftime('%Y-%m-%d %H:%M:%S')\n",
    "    temp = datetime1.datetime.strptime(dt,\"%Y-%m-%d %H:%M:%S\")\n",
    "    new_format = \"%Y-%m-%d\"\n",
    "    date = temp.strftime(new_format)\n",
    "    temp = datetime1.datetime.strptime(energy_data[\"Date & Time\"].get(i),\"%Y-%m-%d %H:%M:%S\")\n",
    "    new_format = \"%H:%M:%S\"\n",
    "    time = temp.strftime(new_format)\n",
    "    if(time == \"00:00:00\" or time == \"12:00:00\"):\n",
    "        allData[date] = []\n",
    "        \n",
    "for c in weather_column:\n",
    "    for i in range (0, len(weather_data[\"time\"])):\n",
    "        dt = datetime2.utcfromtimestamp(weather_data[\"time\"].get(i)).strftime('%Y-%m-%d %H:%M:%S')\n",
    "        temp = datetime1.datetime.strptime(dt,\"%Y-%m-%d %H:%M:%S\")\n",
    "        new_format = \"%Y-%m-%d\"\n",
    "        date = temp.strftime(new_format)\n",
    "        temp = datetime1.datetime.strptime(energy_data[\"Date & Time\"].get(i),\"%Y-%m-%d %H:%M:%S\")\n",
    "        new_format = \"%H:%M:%S\"\n",
    "        time = temp.strftime(new_format)\n",
    "\n",
    "        if(time == \"00:00:00\" or time ==\"12:00:00\"): # Indication of new day\n",
    "            weatherData[c] = []\n",
    "\n",
    "        if(weather_data[c].get(i)):\n",
    "            if(math.isnan(weather_data[c].get(i))):\n",
    "                weatherData[c].append(0)\n",
    "            else:\n",
    "                weatherData[c].append(weather_data[c].get(i))\n",
    "\n",
    "\n",
    "        if(time == \"23:30:00\" or time == \"11:30:00\"): # Indication of end of day\n",
    "            if(weatherData[c] == []):\n",
    "                weatherData[c] = [0]\n",
    "            weatherData[c] = mean(weatherData[c])\n",
    "            allData[date].append(weatherData[c])\n",
    "\n",
    "#allData\n"
   ]
  },
  {
   "cell_type": "code",
   "execution_count": 9,
   "id": "99534080",
   "metadata": {},
   "outputs": [],
   "source": [
    "dateList = [\"date\"]\n",
    "weather_column.append(\"use [kW]\")\n",
    "weather_column = dateList + weather_column"
   ]
  },
  {
   "cell_type": "markdown",
   "id": "10f0f168",
   "metadata": {},
   "source": [
    "What is missing from the data that is yet to be prepared to be added is the date. So here we get a list of all dates in the database, which is the entire year of 2014."
   ]
  },
  {
   "cell_type": "code",
   "execution_count": 10,
   "id": "96b1fee4",
   "metadata": {},
   "outputs": [],
   "source": [
    "allDates = list(allData.keys())\n",
    "#allDates"
   ]
  },
  {
   "cell_type": "markdown",
   "id": "bf4348e9",
   "metadata": {},
   "source": [
    "With all pieces and segments of data done with preparation, we combine the data and input it into a new csv file called newData."
   ]
  },
  {
   "cell_type": "code",
   "execution_count": 11,
   "id": "3f70ad0c",
   "metadata": {},
   "outputs": [],
   "source": [
    "with open('newData.csv', 'w', encoding='UTF8', newline='') as f:\n",
    "    writer = csv.writer(f)\n",
    "\n",
    "    # write the header\n",
    "    writer.writerow(weather_column)\n",
    "    \n",
    "    for ad in range (0, len(allData)):\n",
    "        starter = [allDates[ad]]\n",
    "        end = [energy_usage.get(allDates[ad])]\n",
    "        middle = allData.get(allDates[ad])\n",
    "        row = starter + middle + end\n",
    "        # write the data\n",
    "        writer.writerow(row)\n",
    "    f.close()"
   ]
  },
  {
   "cell_type": "markdown",
   "id": "3da0b1ce",
   "metadata": {},
   "source": [
    "This is the beginning of the second question. The question has numerous parts, one of which is to get all the data from December. This is done here and put into another new csv file called decemberData."
   ]
  },
  {
   "cell_type": "code",
   "execution_count": 12,
   "id": "f497e1b6",
   "metadata": {},
   "outputs": [],
   "source": [
    "# Q2\n",
    "with open('decemberData.csv', 'w', encoding='UTF8', newline='') as f:\n",
    "    writer = csv.writer(f)\n",
    "    # write the header\n",
    "    writer.writerow(weather_column)\n",
    "    \n",
    "    with open('newData.csv') as f:\n",
    "        readerNewData = csv.reader(f)\n",
    "    \n",
    "        for i in readerNewData:\n",
    "            if(\"2014-12\" in i[0]):\n",
    "                writer.writerow(i)\n",
    "        f.close()"
   ]
  },
  {
   "cell_type": "code",
   "execution_count": 13,
   "id": "a837784c",
   "metadata": {},
   "outputs": [],
   "source": [
    "newData = pd.read_csv(\"newData.csv\")\n",
    "#newData"
   ]
  },
  {
   "cell_type": "code",
   "execution_count": 14,
   "id": "26ad4aef",
   "metadata": {
    "scrolled": true
   },
   "outputs": [],
   "source": [
    "decemberData = pd.read_csv(\"decemberData.csv\")\n",
    "#decemberData"
   ]
  },
  {
   "cell_type": "markdown",
   "id": "2d81ce20",
   "metadata": {},
   "source": [
    "As asked, we split the data into a training and a test set."
   ]
  },
  {
   "cell_type": "code",
   "execution_count": 15,
   "id": "2c6d6173",
   "metadata": {},
   "outputs": [],
   "source": [
    "# train contains the training set, test contains the test set\n",
    "train, test = train_test_split(decemberData)"
   ]
  },
  {
   "cell_type": "markdown",
   "id": "d8cf557d",
   "metadata": {},
   "source": [
    "Question 3 asks to do the following:\n",
    "-Create a simple linear regression\n",
    "-Predict energy usage by day\n",
    "-Drop \"use [kW] from the test set\n",
    "-Calculate the RMSE"
   ]
  },
  {
   "cell_type": "markdown",
   "id": "f627a819",
   "metadata": {},
   "source": [
    "We delete the use [kW] column of the test set here by using the del function."
   ]
  },
  {
   "cell_type": "code",
   "execution_count": 16,
   "id": "c20d680f",
   "metadata": {},
   "outputs": [],
   "source": [
    "# Q3\n",
    "testUseKW = test[\"use [kW]\"]\n",
    "testDate  = test[\"date\"]\n",
    "#testUseKW"
   ]
  },
  {
   "cell_type": "code",
   "execution_count": 17,
   "id": "e524d994",
   "metadata": {
    "scrolled": true
   },
   "outputs": [],
   "source": [
    "del test[\"use [kW]\"]\n",
    "#test"
   ]
  },
  {
   "cell_type": "code",
   "execution_count": 18,
   "id": "d8d21aea",
   "metadata": {
    "scrolled": true
   },
   "outputs": [],
   "source": [
    "#train.corr()"
   ]
  },
  {
   "cell_type": "markdown",
   "id": "9ada17e4",
   "metadata": {},
   "source": [
    "In order to make a linear regression and baseline model, we must choose a feature to compare with it. Usually features with high correlations with energy used ideal but not too high. In the chart below, we see that humidity has a good but negative correlation between energy used since the interception between features has a correlation of around 0.3. In hindsight, choosing cloudCover would be been better."
   ]
  },
  {
   "cell_type": "code",
   "execution_count": 19,
   "id": "a6d455e7",
   "metadata": {},
   "outputs": [
    {
     "data": {
      "text/plain": [
       "<AxesSubplot:>"
      ]
     },
     "execution_count": 19,
     "metadata": {},
     "output_type": "execute_result"
    },
    {
     "data": {
      "image/png": "[encoded data removed]",
      "text/plain": [
       "<Figure size 432x288 with 2 Axes>"
      ]
     },
     "metadata": {
      "needs_background": "light"
     },
     "output_type": "display_data"
    }
   ],
   "source": [
    "sns.heatmap(train.corr(), cmap='RdBu', center=0)"
   ]
  },
  {
   "cell_type": "markdown",
   "id": "5b879608",
   "metadata": {},
   "source": [
    "The linear regression model is created here, resulting in a 5.05 RMSE which could be better since the RMSE can be closer to zero. This can also be visualized through the graph and how the points are far away from the prediction line."
   ]
  },
  {
   "cell_type": "code",
   "execution_count": 20,
   "id": "0b8e367b",
   "metadata": {},
   "outputs": [
    {
     "name": "stdout",
     "output_type": "stream",
     "text": [
      "The linear model is: used[kW] = -4.954573342840395 * Humidity + 33.929560508782046\n",
      "MSE: 0.3013328509489611\n",
      "RMSE: 0.5489379299601742\n"
     ]
    },
    {
     "name": "stderr",
     "output_type": "stream",
     "text": [
      "C:\\Users\\jeffl\\anaconda3\\lib\\site-packages\\seaborn\\_decorators.py:36: FutureWarning: Pass the following variables as keyword args: x, y. From version 0.12, the only valid positional argument will be `data`, and passing other arguments without an explicit keyword will result in an error or misinterpretation.\n",
      "  warnings.warn(\n",
      "C:\\Users\\jeffl\\anaconda3\\lib\\site-packages\\seaborn\\_decorators.py:36: FutureWarning: Pass the following variables as keyword args: x, y. From version 0.12, the only valid positional argument will be `data`, and passing other arguments without an explicit keyword will result in an error or misinterpretation.\n",
      "  warnings.warn(\n",
      "C:\\Users\\jeffl\\anaconda3\\lib\\site-packages\\seaborn\\_decorators.py:36: FutureWarning: Pass the following variables as keyword args: x, y. From version 0.12, the only valid positional argument will be `data`, and passing other arguments without an explicit keyword will result in an error or misinterpretation.\n",
      "  warnings.warn(\n"
     ]
    },
    {
     "data": {
      "text/plain": [
       "<matplotlib.legend.Legend at 0x1c033c426a0>"
      ]
     },
     "execution_count": 20,
     "metadata": {},
     "output_type": "execute_result"
    },
    {
     "data": {
      "image/png": "[encoded data removed]",
      "text/plain": [
       "<Figure size 432x288 with 1 Axes>"
      ]
     },
     "metadata": {
      "needs_background": "light"
     },
     "output_type": "display_data"
    }
   ],
   "source": [
    "m = LinearRegression()\n",
    "\n",
    "xTrain = train[\"humidity\"].to_numpy().reshape(-1,1)\n",
    "yTrain = train[\"use [kW]\"].to_numpy().reshape(-1,1)\n",
    "xTest = test[\"humidity\"].to_numpy().reshape(-1,1)\n",
    "yTest = testUseKW.to_numpy().reshape(-1,1)\n",
    "\n",
    "m = m.fit(xTrain,yTrain)\n",
    "coef = m.coef_\n",
    "intercept = m.intercept_\n",
    "print(\"The linear model is: used[kW] = \" + str(coef[0][0]) + \" * Humidity + \" + str(intercept[0]))\n",
    "\n",
    "predictions = m.predict(xTest)\n",
    "MSE = np.mean(yTest - predictions) ** 2\n",
    "RMSE = np.sqrt(MSE)\n",
    "print(\"MSE: \" +str(MSE))\n",
    "print(\"RMSE: \" +str(RMSE))\n",
    "predictions = m.predict(decemberData[\"humidity\"].to_numpy().reshape(-1, 1))\n",
    "predictions1d = []\n",
    "for i in predictions:\n",
    "    predictions1d.append(i[0])\n",
    "\n",
    "            \n",
    "sns.scatterplot(train[\"humidity\"], train[\"use [kW]\"],label=\"Training Set\")\n",
    "sns.scatterplot(decemberData[\"humidity\"], predictions1d, label=\"Prediction Line\")\n",
    "sns.scatterplot(test[\"humidity\"], testUseKW, color=\"red\", label=\"Test Set\")\n",
    "plt.title(\"Baseline Model: Humidity Vs use [kW]\")\n",
    "plt.legend(bbox_to_anchor= (1,1))"
   ]
  },
  {
   "cell_type": "markdown",
   "id": "40842190",
   "metadata": {},
   "source": [
    "For the final part of this question, we must enter our predictions into a new csv file named cse351_hw2_Zhang_Junhui_112895310_linear_regression. The data entered is the date and the predicted use of energy which is obtained by the linear regression equation."
   ]
  },
  {
   "cell_type": "code",
   "execution_count": 21,
   "id": "2991ccdb",
   "metadata": {},
   "outputs": [],
   "source": [
    "with open('cse351_hw2_Zhang_Junhui_112895310_linear_regression.csv', 'w', encoding='UTF8', newline='') as f:\n",
    "    writer = csv.writer(f)\n",
    "    # write the header\n",
    "    writer.writerow([\"Date\", \"Predicted Use [kW]\"])\n",
    "    for i in range(0, len(decemberData[\"date\"])):\n",
    "        input = []\n",
    "        input.append(decemberData[\"date\"].get(i))\n",
    "        x = decemberData[\"humidity\"].get(i)\n",
    "        b = intercept[0]\n",
    "        m = coef[0][0]\n",
    "        inputPredict = m * x + b\n",
    "        input.append(inputPredict)\n",
    "        writer.writerow(input)\n",
    "        "
   ]
  },
  {
   "cell_type": "markdown",
   "id": "28a4f757",
   "metadata": {},
   "source": [
    "Ultimately, this model did not work very well mainly because the features present a poor correlation of around 0.3. Additional reasons of failure may be cause no outliers has been removed, Napier's logarithm has not be applied and most importantly, a better feature could of been used, specially one that has a good correlation between energy used."
   ]
  },
  {
   "cell_type": "markdown",
   "id": "ad3ea722",
   "metadata": {},
   "source": [
    "In question 4, the question requires how classify if temperatures are low or high, a logistic regression model , a F score and new data into another csv file."
   ]
  },
  {
   "cell_type": "code",
   "execution_count": 22,
   "id": "3c2474a6",
   "metadata": {},
   "outputs": [],
   "source": [
    "# Q4\n",
    "train, test = train_test_split(decemberData)"
   ]
  },
  {
   "cell_type": "code",
   "execution_count": 23,
   "id": "9317340e",
   "metadata": {
    "scrolled": true
   },
   "outputs": [],
   "source": [
    "#train"
   ]
  },
  {
   "cell_type": "markdown",
   "id": "892f5e4b",
   "metadata": {},
   "source": [
    "Here after seperating the data into training and test sets, we classify the temperature if it is high or low, if it was 35 degrees and above or below. All info is put into 4 lists."
   ]
  },
  {
   "cell_type": "code",
   "execution_count": 24,
   "id": "65156ea0",
   "metadata": {},
   "outputs": [],
   "source": [
    "for i in decemberData[\"date\"]:\n",
    "    decemberData[\"date\"] = decemberData[\"date\"].replace(i, str(i).replace(\"-\",\"\"))\n",
    "    \n",
    "x = decemberData[\"date\"]\n",
    "y = decemberData[\"temperature\"].round(0)\n",
    "\n",
    "over35X = []\n",
    "under35X = []\n",
    "over35Y = []\n",
    "under35Y = []\n",
    "for i in range (0,len(x)):\n",
    "    if (int(y.get(i)) >= 35):\n",
    "        over35X.append(x.get(i))\n",
    "        over35Y.append(y.get(i))\n",
    "    else:\n",
    "        under35X.append(x.get(i))\n",
    "        under35Y.append(y.get(i))\n"
   ]
  },
  {
   "cell_type": "markdown",
   "id": "2f8e0fbe",
   "metadata": {},
   "source": [
    "Using the data that we have just pre-processed, we can plot our scatter plot and our logistic regression function. "
   ]
  },
  {
   "cell_type": "code",
   "execution_count": 25,
   "id": "d1c3c731",
   "metadata": {
    "scrolled": true
   },
   "outputs": [
    {
     "name": "stderr",
     "output_type": "stream",
     "text": [
      "<ipython-input-25-c4c94fd2ba30>:2: SettingWithCopyWarning: \n",
      "A value is trying to be set on a copy of a slice from a DataFrame.\n",
      "Try using .loc[row_indexer,col_indexer] = value instead\n",
      "\n",
      "See the caveats in the documentation: https://pandas.pydata.org/pandas-docs/stable/user_guide/indexing.html#returning-a-view-versus-a-copy\n",
      "  train[\"date\"] = train[\"date\"].replace(i, str(i).replace(\"-\",\"\"))\n",
      "<ipython-input-25-c4c94fd2ba30>:5: SettingWithCopyWarning: \n",
      "A value is trying to be set on a copy of a slice from a DataFrame.\n",
      "Try using .loc[row_indexer,col_indexer] = value instead\n",
      "\n",
      "See the caveats in the documentation: https://pandas.pydata.org/pandas-docs/stable/user_guide/indexing.html#returning-a-view-versus-a-copy\n",
      "  test[\"date\"] = test[\"date\"].replace(i, str(i).replace(\"-\",\"\"))\n",
      "C:\\Users\\jeffl\\anaconda3\\lib\\site-packages\\sklearn\\utils\\validation.py:63: DataConversionWarning: A column-vector y was passed when a 1d array was expected. Please change the shape of y to (n_samples, ), for example using ravel().\n",
      "  return f(*args, **kwargs)\n"
     ]
    },
    {
     "data": {
      "image/png": "[encoded data removed]",
      "text/plain": [
       "<Figure size 432x288 with 1 Axes>"
      ]
     },
     "metadata": {
      "needs_background": "light"
     },
     "output_type": "display_data"
    }
   ],
   "source": [
    "for i in train[\"date\"]:\n",
    "    train[\"date\"] = train[\"date\"].replace(i, str(i).replace(\"-\",\"\"))\n",
    "    \n",
    "for i in test[\"date\"]:\n",
    "    test[\"date\"] = test[\"date\"].replace(i, str(i).replace(\"-\",\"\"))\n",
    "    \n",
    "xTrain = train[\"date\"].to_numpy().reshape(-1,1)\n",
    "yTrain = train[\"temperature\"].round(0).to_numpy().reshape(-1,1)\n",
    "xTest = test[\"date\"].to_numpy().reshape(-1,1)\n",
    "yTest = test[\"temperature\"].round(0).to_numpy().reshape(-1,1)\n",
    "m2 = LogisticRegression()\n",
    "m2 = m2.fit(xTrain,yTrain)\n",
    "x2 = x.to_numpy().reshape(-1,1)\n",
    "y_pred = m2.predict(x2)\n",
    "\n",
    "plt.scatter(under35X,under35Y,color=\"red\",label=\"< 35\")\n",
    "plt.scatter(over35X,over35Y,color=\"blue\",label=\">= 35\")\n",
    "plt.scatter(test[\"date\"],test[\"temperature\"],color=\"orange\",label=\"Test Set\")\n",
    "plt.scatter(x,y_pred,color=\"green\",label=\"Logistic Regression\")\n",
    "plt.title(\"Date to Temperature Scatter Plot\")\n",
    "plt.xticks(rotation=90)\n",
    "plt.xlabel(\"Dates\")\n",
    "plt.ylabel(\"Temperature\")\n",
    "plt.legend(loc=\"upper left\")\n",
    "plt.show()\n",
    "\n",
    "coef = m2.coef_\n",
    "intercept = m2.intercept_"
   ]
  },
  {
   "cell_type": "markdown",
   "id": "9db7bd76",
   "metadata": {},
   "source": [
    "The F-Score we concluded to be is around 0.0098 which is not good because a F-Score of near 1 is optimal and 0 is the worst value."
   ]
  },
  {
   "cell_type": "code",
   "execution_count": 26,
   "id": "1ac5d8fc",
   "metadata": {
    "scrolled": false
   },
   "outputs": [
    {
     "name": "stdout",
     "output_type": "stream",
     "text": [
      "F-Score: 0.015432098765432096\n"
     ]
    }
   ],
   "source": [
    "fscore = str(f1_score(y, y_pred, average=\"macro\"))\n",
    "print(\"F-Score: \"+fscore)"
   ]
  },
  {
   "cell_type": "markdown",
   "id": "71ea2e5f",
   "metadata": {},
   "source": [
    "Once again, we create another csv file to input the information if the temperature was 35 and above or below by date."
   ]
  },
  {
   "cell_type": "code",
   "execution_count": 27,
   "id": "ecd8d75e",
   "metadata": {},
   "outputs": [],
   "source": [
    "decemberDates = []\n",
    "for i in allDates:\n",
    "    if(\"2014-12-\" in i):\n",
    "        decemberDates.append(i)\n",
    "        \n",
    "with open('cse351_hw2_Zhang_Junhui_112895310_logistic_regression.csv', 'w', encoding='UTF8', newline='') as f:\n",
    "    writer = csv.writer(f)\n",
    "    # write the header\n",
    "    writer.writerow([\"Date\", \"Classification Of Temp\"])\n",
    "    for i in range(0, len(decemberData[\"date\"])):\n",
    "        input = []\n",
    "        input.append(decemberDates[i])\n",
    "        if(decemberData[\"temperature\"].get(i) >= 35):\n",
    "            input.append(1)\n",
    "        else:\n",
    "            input.append(0)\n",
    "\n",
    "        writer.writerow(input)\n",
    "        "
   ]
  },
  {
   "cell_type": "markdown",
   "id": "c94ad0b5",
   "metadata": {},
   "source": [
    "For question #5, I decided to choose the two devices of furnace and washer and to answer the questions \"Is the [enter device here] being used only during the day? and the question during what time of the day is [enter device here] most used."
   ]
  },
  {
   "cell_type": "code",
   "execution_count": 28,
   "id": "691fde5f",
   "metadata": {
    "scrolled": true
   },
   "outputs": [],
   "source": [
    "# Q5\n",
    "#energy_data"
   ]
  },
  {
   "cell_type": "markdown",
   "id": "3ecb5024",
   "metadata": {},
   "source": [
    "To answer these questions, I seperated the data by day and night and by date. Next, I find the total energy used for day and night."
   ]
  },
  {
   "cell_type": "code",
   "execution_count": 29,
   "id": "02085781",
   "metadata": {},
   "outputs": [],
   "source": [
    "furnaceDayNightData = {}\n",
    "washerDayNightData = {}\n",
    "furnaceEnergy = []\n",
    "washerEnergy = []\n",
    "for i in range (0, len(energy_data[\"Date & Time\"])):\n",
    "    temp = datetime1.datetime.strptime(energy_data[\"Date & Time\"].get(i),\"%Y-%m-%d %H:%M:%S\")\n",
    "    new_format = \"%Y-%m-%d\"\n",
    "    date = temp.strftime(new_format)\n",
    "    temp = datetime1.datetime.strptime(energy_data[\"Date & Time\"].get(i),\"%Y-%m-%d %H:%M:%S\")\n",
    "    new_format = \"%H:%M:%S\"\n",
    "    time = temp.strftime(new_format)\n",
    "    \n",
    "    if(\"06:00:00\" in time):\n",
    "        if(furnaceEnergy or washerEnergy):\n",
    "            if(len(furnaceEnergy) != 0 or len(washerEnergy) != 0):\n",
    "                temp = date + \" day\"\n",
    "                furnaceDayNightData[temp] = furnaceEnergy\n",
    "                washerDayNightData[temp] = washerEnergy\n",
    "            furnaceEnergy = []\n",
    "            washerEnergy = []\n",
    "               \n",
    "    if(\"19:00:00\" in time):\n",
    "        if(len(furnaceEnergy) != 0 or len(washerEnergy) != 0):\n",
    "            temp = date + \" night\"\n",
    "            furnaceDayNightData[temp] = furnaceEnergy\n",
    "            washerDayNightData[temp] = washerEnergy\n",
    "        furnaceEnergy = []\n",
    "        washerEnergy = []\n",
    "        \n",
    "    furnaceEnergy.append(energy_data[\"Furnace [kW]\"].get(i))\n",
    "    washerEnergy.append(energy_data[\"Washer [kW]\"].get(i))\n",
    "    \n",
    "#furnaceDayNightData\n"
   ]
  },
  {
   "cell_type": "code",
   "execution_count": 30,
   "id": "4c8e8bb8",
   "metadata": {},
   "outputs": [
    {
     "name": "stdout",
     "output_type": "stream",
     "text": [
      "WasherDay: 10.092497203000006\n",
      "washerNight: 43.63436277900002\n",
      "furnanceDay: 10.092497203000006\n",
      "furnacneNight: 43.63436277900002\n"
     ]
    }
   ],
   "source": [
    "washerDayEnergy = 0\n",
    "washerNightEnergy = 0\n",
    "furnaceDayEnergy = 0\n",
    "furnaceNightEnergy = 0 \n",
    "\n",
    "keys = list(furnaceDayNightData.keys())\n",
    "for k in keys:\n",
    "    washerL = washerDayNightData.get(k)\n",
    "    sum = 0\n",
    "    for i in washerL:\n",
    "        sum += i\n",
    "    if(\"day\" in k):\n",
    "        washerDayEnergy += sum\n",
    "    else:\n",
    "        washerNightEnergy += sum\n",
    "        \n",
    "    furnaceL = furnaceDayNightData.get(k)\n",
    "    sum = 0\n",
    "    for i in washerL:\n",
    "        sum += i\n",
    "    if(\"day\" in k):\n",
    "        furnaceDayEnergy += sum\n",
    "    else:\n",
    "        furnaceNightEnergy += sum\n",
    "        \n",
    "print(\"WasherDay: \" +str(washerDayEnergy))\n",
    "print(\"washerNight: \"+str(washerNightEnergy))\n",
    "print(\"furnanceDay: \"+str(furnaceDayEnergy))\n",
    "print(\"furnacneNight: \"+str(furnaceNightEnergy))"
   ]
  },
  {
   "cell_type": "code",
   "execution_count": 31,
   "id": "7dc1cba8",
   "metadata": {},
   "outputs": [
    {
     "data": {
      "image/png": "[encoded data removed]",
      "text/plain": [
       "<Figure size 432x288 with 1 Axes>"
      ]
     },
     "metadata": {
      "needs_background": "light"
     },
     "output_type": "display_data"
    }
   ],
   "source": [
    "xAxis = (\"Washer:Day\",\"Washer:Night\",\"Furnace:Day\",\"Furnace:Night\")\n",
    "yAxis = [washerDayEnergy,washerNightEnergy,furnaceDayEnergy,furnaceNightEnergy]\n",
    "plt.bar(xAxis,yAxis, align=\"center\")\n",
    "plt.title(\"Energy By Device During Day/Night\")\n",
    "plt.ylabel(\"Energy Used in kW\")\n",
    "plt.xlabel(\"Device:Time Of Day\")\n",
    "plt.show()\n",
    "#- Is the washer being used only during the day?\n",
    "#During what time of the day is AC used most?"
   ]
  },
  {
   "cell_type": "markdown",
   "id": "9649af4c",
   "metadata": {},
   "source": [
    "In conclusion, we can establish that both the washer and the furnace are not only used during the day but in matter of fact, both devices are used more during the night. Coincidentally, both devices seem to be used the same amount during the day and during the night throughout the year, making these sets of bars look completely identical."
   ]
  },
  {
   "cell_type": "code",
   "execution_count": null,
   "id": "2b8b42ef",
   "metadata": {},
   "outputs": [],
   "source": []
  }
 ],
 "metadata": {
  "kernelspec": {
   "display_name": "Python 3",
   "language": "python",
   "name": "python3"
  },
  "language_info": {
   "codemirror_mode": {
    "name": "ipython",
    "version": 3
   },
   "file_extension": ".py",
   "mimetype": "text/x-python",
   "name": "python",
   "nbconvert_exporter": "python",
   "pygments_lexer": "ipython3",
   "version": "3.8.8"
  }
 },
 "nbformat": 4,
 "nbformat_minor": 5
}
